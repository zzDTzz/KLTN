{
 "cells": [
  {
   "cell_type": "code",
   "execution_count": 1,
   "id": "baced35a",
   "metadata": {},
   "outputs": [],
   "source": [
    "import json"
   ]
  },
  {
   "cell_type": "code",
   "execution_count": 2,
   "id": "cd94cd81",
   "metadata": {},
   "outputs": [],
   "source": [
    "def type_and_position_of_pattern(file_json):\n",
    "    f = open(file_json)\n",
    "    patterns = json.load(f)\n",
    "    list_patterns = []\n",
    "    for i in range(len(patterns)):\n",
    "        children = []\n",
    "        for j in range(len(patterns[i]['data']['children'])):\n",
    "            if(patterns[i]['data']['children'][j]['type'] == 'CONTAINER'):\n",
    "                for z in range(len(patterns[i]['data']['children'][j]['children'])):\n",
    "                    temp = patterns[i]['data']['children'][j]['children'][z]['type']\\\n",
    "                    + '(' + str(patterns[i]['data']['children'][j]['children'][z]['data']['position']['x'])\\\n",
    "                    + ',' + str(patterns[i]['data']['children'][j]['children'][z]['data']['position']['y']) + ')'\n",
    "                    children.append(temp)\n",
    "            else:\n",
    "                temp = patterns[i]['data']['children'][j]['type']\\\n",
    "            + '(' + str(patterns[i]['data']['children'][j]['data']['position']['x'])\\\n",
    "            + ',' + str(patterns[i]['data']['children'][j]['data']['position']['y']) + ')'\n",
    "                children.append(temp)\n",
    "        pattern = {\n",
    "            'id' : patterns[i]['id'],\n",
    "            'children' : children\n",
    "        }\n",
    "        list_patterns.append(pattern)\n",
    "    return list_patterns"
   ]
  },
  {
   "cell_type": "code",
   "execution_count": 3,
   "id": "32361c7b",
   "metadata": {},
   "outputs": [],
   "source": [
    "list_patterns = type_and_position_of_pattern('patterns.json')"
   ]
  },
  {
   "cell_type": "code",
   "execution_count": 4,
   "id": "d5af6deb",
   "metadata": {},
   "outputs": [],
   "source": [
    "with open(\"patterns_with_position.json\", \"w\") as final:\n",
    "    json.dump(list_patterns, final)"
   ]
  }
 ],
 "metadata": {
  "kernelspec": {
   "display_name": "Python 3 (ipykernel)",
   "language": "python",
   "name": "python3"
  },
  "language_info": {
   "codemirror_mode": {
    "name": "ipython",
    "version": 3
   },
   "file_extension": ".py",
   "mimetype": "text/x-python",
   "name": "python",
   "nbconvert_exporter": "python",
   "pygments_lexer": "ipython3",
   "version": "3.8.8"
  }
 },
 "nbformat": 4,
 "nbformat_minor": 5
}
