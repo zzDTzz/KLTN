{
 "cells": [
  {
   "cell_type": "code",
   "execution_count": 1,
   "id": "61d8953f",
   "metadata": {},
   "outputs": [],
   "source": [
    "import re\n",
    "import numpy as np\n",
    "import json\n",
    "import pandas as pd\n",
    "import ast"
   ]
  },
  {
   "cell_type": "code",
   "execution_count": 2,
   "id": "18a9179f",
   "metadata": {},
   "outputs": [],
   "source": [
    "def vector(component_1,component_2):\n",
    "    a = re.split('\\(|\\)|,',component_1)\n",
    "    b = re.split('\\(|\\)|,',component_2)\n",
    "    v_x = float(a[1]) - float(b[1])\n",
    "    v_y = float(a[2]) - float(b[2])\n",
    "    return np.array([v_x,v_y])"
   ]
  },
  {
   "cell_type": "code",
   "execution_count": 3,
   "id": "d3bc6e58",
   "metadata": {},
   "outputs": [],
   "source": [
    "def cos_sim(a, b):\n",
    "    \"\"\"Takes 2 vectors a, b and returns the cosine similarity \n",
    "    \"\"\"\n",
    "    dot_product = np.dot(a, b) # x.y\n",
    "    norm_a = np.linalg.norm(a) #|x|\n",
    "    norm_b = np.linalg.norm(b) #|y|\n",
    "    return dot_product / (norm_a * norm_b)"
   ]
  },
  {
   "cell_type": "code",
   "execution_count": 4,
   "id": "2f8f5008",
   "metadata": {},
   "outputs": [],
   "source": [
    "def get_tail_list(input_comp1,pattern):\n",
    "    tail = []\n",
    "    a = re.split('\\(|\\)|,',input_comp1)\n",
    "    for i in range(len(pattern)):\n",
    "        if (a[0] in pattern[i]):\n",
    "            tail.append(pattern[i])\n",
    "    return tail"
   ]
  },
  {
   "cell_type": "code",
   "execution_count": 5,
   "id": "6491301f",
   "metadata": {},
   "outputs": [],
   "source": [
    "def get_head_list(input_comp2,pattern):\n",
    "    head = []\n",
    "    b = re.split('\\(|\\)|,',input_comp2)\n",
    "    for i in range(len(pattern)):\n",
    "        if (b[0] in pattern[i]):\n",
    "            head.append(pattern[i])\n",
    "    return head"
   ]
  },
  {
   "cell_type": "code",
   "execution_count": 6,
   "id": "4dcec1cf",
   "metadata": {},
   "outputs": [],
   "source": [
    "def similarity_of_two_components(input_comp1,input_comp2,pattern):\n",
    "    input_vector = vector(input_comp1,input_comp2)\n",
    "    tail = get_tail_list(input_comp1,pattern)\n",
    "    head = get_head_list(input_comp2,pattern)\n",
    "    similarity = -1\n",
    "    for i in range(len(tail)):\n",
    "        for j in range(len(head)):\n",
    "            temp = vector(tail[i],head[j])\n",
    "            if similarity < cos_sim(input_vector, temp):\n",
    "                similarity = cos_sim(input_vector, temp)\n",
    "    return similarity"
   ]
  },
  {
   "cell_type": "code",
   "execution_count": 7,
   "id": "a71dd9cc",
   "metadata": {},
   "outputs": [],
   "source": [
    "def similarity(input_comps,pattern):\n",
    "    s = 0\n",
    "    for i in range(len(input_comps)-1):\n",
    "        s += similarity_of_two_components(input_comps[i],input_comps[i+1],pattern)\n",
    "    return s"
   ]
  },
  {
   "cell_type": "code",
   "execution_count": 8,
   "id": "bef6b8ac",
   "metadata": {},
   "outputs": [],
   "source": [
    "input_comps = ['BUTTON(59,67)','TEXT(32,47)']\n",
    "p =['AVATAR(164.0,83.0)',\n",
    "'BUTTON(716,47)',\n",
    "'IMAGE(16.0,16.0)',\n",
    "'BUTTON(638.0,47.0)',\n",
    "'AVATAR(146.0,83.0)',\n",
    "'AVATAR(128.0,83.0)',\n",
    "'TEXT(128.0,54.0)',\n",
    "'TEXT(196.0,85.0)',\n",
    "'TEXT(128.0,21.0)']"
   ]
  },
  {
   "cell_type": "code",
   "execution_count": 9,
   "id": "a9957ec7",
   "metadata": {},
   "outputs": [
    {
     "data": {
      "text/plain": [
       "0.8328205790756609"
      ]
     },
     "execution_count": 9,
     "metadata": {},
     "output_type": "execute_result"
    }
   ],
   "source": [
    "similarity(input_comps,p)"
   ]
  },
  {
   "cell_type": "code",
   "execution_count": 10,
   "id": "b0d70a53",
   "metadata": {},
   "outputs": [],
   "source": [
    "f = open('100000.json')\n",
    "input_file = json.load(f)"
   ]
  },
  {
   "cell_type": "code",
   "execution_count": 11,
   "id": "e0cea52f",
   "metadata": {},
   "outputs": [],
   "source": [
    "def get_input_components(file_json):\n",
    "    list_input = []\n",
    "    f = open(file_json)\n",
    "    input_file = json.load(f)\n",
    "    for i in range(len(input_file)):\n",
    "        temp = input_file[i]['type'] +\\\n",
    "        '(' + str(input_file[i]['data']['position']['x']) +\\\n",
    "        ',' + str(input_file[i]['data']['position']['y']) + ')'\n",
    "        list_input.append(temp)\n",
    "    return list_input"
   ]
  },
  {
   "cell_type": "code",
   "execution_count": 12,
   "id": "c2b2bfb4",
   "metadata": {},
   "outputs": [],
   "source": [
    "list_input = get_input_components('100000.json')"
   ]
  },
  {
   "cell_type": "code",
   "execution_count": 13,
   "id": "b40e02e9",
   "metadata": {},
   "outputs": [
    {
     "data": {
      "text/plain": [
       "['BUTTON(820,92)', 'TEXTBOX(443,92)']"
      ]
     },
     "execution_count": 13,
     "metadata": {},
     "output_type": "execute_result"
    }
   ],
   "source": [
    "list_input"
   ]
  },
  {
   "cell_type": "code",
   "execution_count": 14,
   "id": "f98f8f28",
   "metadata": {},
   "outputs": [],
   "source": [
    "def find_patterns(list_input):\n",
    "    components = []\n",
    "    list_patterns = []\n",
    "    for i in list_input:\n",
    "        components.append(re.split('\\(|\\)|,',i)[0])\n",
    "    df = pd.read_csv('recommendation.csv')\n",
    "    df['Inputs'] = df['Inputs'].apply(lambda x:ast.literal_eval(x))\n",
    "    mask = df['Inputs'].apply(lambda x: set(components) == set(x))\n",
    "    list_patterns = ast.literal_eval(df[mask]['Recommend'].values[0])\n",
    "    return list_patterns"
   ]
  },
  {
   "cell_type": "code",
   "execution_count": 15,
   "id": "de0b5a1b",
   "metadata": {
    "scrolled": false
   },
   "outputs": [],
   "source": [
    "f = open('patterns_with_position.json')\n",
    "source = json.load(f)\n",
    "list_patterns = find_patterns(list_input)"
   ]
  },
  {
   "cell_type": "code",
   "execution_count": 16,
   "id": "c7372e0a",
   "metadata": {},
   "outputs": [
    {
     "data": {
      "text/plain": [
       "[2722,\n",
       " 2723,\n",
       " 319395,\n",
       " 2725,\n",
       " 2726,\n",
       " 2724,\n",
       " 319595,\n",
       " 2098731,\n",
       " 319468,\n",
       " 319373,\n",
       " 319570,\n",
       " 2098714,\n",
       " 2288601,\n",
       " 48666,\n",
       " 473596]"
      ]
     },
     "execution_count": 16,
     "metadata": {},
     "output_type": "execute_result"
    }
   ],
   "source": [
    "list_patterns"
   ]
  },
  {
   "cell_type": "code",
   "execution_count": 17,
   "id": "21d834e8",
   "metadata": {
    "scrolled": false
   },
   "outputs": [
    {
     "name": "stdout",
     "output_type": "stream",
     "text": [
      "recommended pattern 2722\n",
      "source 2722 ['BUTTON(28,130)', 'TEXTBOX(294,272)', 'TEXT(28,24)', 'DIVIDER(28,241)', 'BUTTON(28,86)', 'TEXTBOX(28,272)', 'TEXTBOX(28,352)', 'TEXT(274,230)', 'TEXTBOX(28,432)', 'BUTTON(28,554)', 'DIVIDER(306,241)', 'BUTTON(28,174)', 'CHECKBOX(28,513)', 'TEXT(187,618)', 'TEXT(46,512)', 'TEXT(335,618)']\n",
      "similarity  0.0\n",
      "recommended pattern 2723\n",
      "source 2723 ['TEXT(30,23)', 'TEXT(31,80)', 'BUTTON(677,92)', 'TEXT(30,110)', 'BUTTON(677,310)', 'BUTTON(677,526)', 'CHECKBOX(663,645)', 'DIVIDER(30,168)', 'BUTTON(677,216)', 'DIVIDER(30,277)', 'DIVIDER(30,386)', 'DIVIDER(30,495)', 'DIVIDER(30,603)', 'TEXT(30,186)', 'TEXT(30,216)', 'TEXT(30,293)', 'TEXT(30,326)', 'TEXT(30,411)', 'TEXT(30,439)', 'TEXT(30,512)', 'TEXT(30,540)', 'TEXT(30,622)', 'TEXT(30,652)', 'TEXTBOX(618,423)']\n",
      "similarity  0.4970459221108368\n",
      "recommended pattern 319395\n",
      "source 319395 ['BUTTON(24,86)', 'BUTTON(24,142)', 'BUTTON(24,198)', 'TEXTBOX(24,304)', 'TEXTBOX(24,384)', 'BUTTON(24,506)', 'TEXT(24,24)', 'DIVIDER(287,273)', 'DIVIDER(24,273)', 'TEXT(168,566)', 'TEXT(316,566)', 'CHECKBOX(24,464)', 'TEXT(255.99999999999997,262)', 'TEXT(394,464)']\n",
      "similarity  0.0\n",
      "recommended pattern 2725\n",
      "source 2725 ['TEXT(48,24)', 'TEXTBOX(48,295)', 'TEXT(48,80)', 'IMAGE(48,115)', 'TEXTAREA(48,591)', 'TEXT(227,154.5)', 'TEXT(227,176)', 'BUTTON(227,207.5)', 'BUTTON(330,207.5)', 'TEXTBOX(48,369)', 'TEXTBOX(48,443)', 'BUTTON(436,732)', 'BUTTON(515,732)', 'TEXTBOX(48,515)']\n",
      "similarity  0.9550806653139845\n",
      "recommended pattern 2726\n",
      "source 2726 ['ICON(1340,16)', 'AVATAR(1380,10)', 'IMAGE(24,10)', 'TEXTBOX(160,10)', 'BUTTON(1122,10)', 'ICON(1300,16)']\n",
      "similarity  1.0\n",
      "recommended pattern 2724\n",
      "source 2724 ['TEXT(25,24)', 'TEXT(25,71)', 'TEXTBOX(25,109)', 'TEXT(25,251)', 'TEXTBOX(25,373)', 'TEXTAREA(25,451)', 'CHECKBOX(25,588)', 'BUTTON(334,647)', 'BUTTON(415,647)', 'TEXTBOX(25,187)', 'TEXTBOX(263,110)', 'TEXTBOX(263,373)', 'TEXTBOX(25,296)']\n",
      "similarity  0.818245042648376\n",
      "recommended pattern 319595\n",
      "source 319595 ['TEXTBOX(24,76)', 'TEXT(24,24)', 'AVATAR(24,146)', 'TEXT(76,140)', 'TEXT(76,166)', 'TEXT(76,215)', 'ICON(30,214)', 'ICON(30,258)', 'TEXT(76,259)', 'BUTTON(488,76)', 'ICON(592,24)', 'TEXTBOX(514,208)', 'TEXTBOX(514,252)', 'TEXTBOX(344,76)', 'DIVIDER(0,312)', 'ICON(434,14)', 'BUTTON(24,4)', 'TEXT(456,11)', 'TEXT(576,153)']\n",
      "similarity  1.0\n",
      "recommended pattern 2098731\n",
      "source 2098731 ['TEXT(207.5,24)', 'BUTTON(187,530)', 'BUTTON(247,530)', 'BUTTON(307,530)', 'TEXTBOX(279,96)', 'TEXTBOX(28,92)', 'TEXTBOX(28,176)', 'TEXTBOX(28,256)', 'TEXT(46,336)', 'BUTTON(28,378)', 'TEXT(154,440)', 'CHECKBOX(28,337)', 'TEXT(259,484)', 'DIVIDER(28,495)', 'DIVIDER(291,495)']\n",
      "similarity  0.7134709890577368\n",
      "recommended pattern 319468\n",
      "source 319468 ['IMAGE(160,48)', 'TEXT(352,48)', 'TEXT(352,90)', 'TEXT(352,124)', 'TEXT(540,48)', 'TEXT(540,90)', 'TEXT(540,124)', 'TEXT(540,158)', 'TEXT(728,48)', 'TEXT(728,90)', 'TEXT(728,124)', 'ICON(1257,14)', 'ICON(1187,14)', 'ICON(1222,14)', 'ICON(1152,13)', 'DIVIDER(685,25)', 'DIVIDER(751,25)', 'DIVIDER(811,25)', 'TEXT(566,15)', 'TEXT(697,15)', 'TEXT(763,15)', 'TEXT(823,15)', 'TEXTBOX(160,12)', 'DIVIDER(0,232)', 'TEXT(949,48)', 'TEXT(949,76)', 'TEXTBOX(949,114)', 'BUTTON(1184,114)']\n",
      "similarity  1.0\n",
      "recommended pattern 319373\n",
      "source 319373 ['TEXTBOX(96,90)', 'TEXTBOX(297,194)', 'BUTTON(342,548)', 'TEXTBOX(96,194)', 'TEXTBOX(309,90)', 'TEXTBOX(96,246)', 'TEXTAREA(24,404)', 'BUTTON(440,548)', 'TEXTBOX(96,142)', 'TEXTBOX(420,194)', 'TEXTBOX(96,298)', 'TEXT(24,24)', 'CHECKBOX(24,358)', 'TEXT(24,305)', 'TEXT(24,97)', 'TEXT(24,149)', 'TEXT(24,253)']\n",
      "similarity  0.8089394148147898\n",
      "recommended pattern 319570\n",
      "source 319570 ['TEXT(24,24)', 'TEXTBOX(24,156)', 'BUTTON(344,180)', 'BUTTON(40,72)', 'BUTTON(118,72)', 'BUTTON(198,72)', 'BUTTON(273,72)', 'BUTTON(349,72)', 'ICON(384,24)', 'TEXT(99,120)', 'TEXT(182,120)', 'TEXT(257,120)', 'TEXT(24,120)', 'TEXT(333,120)']\n",
      "similarity  0.9971993098884563\n",
      "recommended pattern 2098714\n",
      "source 2098714 ['TEXTBOX(24,94)', 'TEXTBOX(24,174)', 'BUTTON(24,296)', 'TEXT(24,28)', 'TEXT(154,358)', 'CHECKBOX(24,254)', 'TEXT(381,254)', 'DIVIDER(287,414)', 'TEXT(256,403)', 'DIVIDER(24,414)', 'BUTTON(303,446)', 'BUTTON(243,446)', 'BUTTON(183,446)']\n",
      "similarity  0.7160322088817658\n",
      "recommended pattern 2288601\n",
      "source 2288601 ['AVATAR(16,128)', 'TEXT(60,195)', 'ICON(22,193)', 'ICON(22,249)', 'TEXT(60,251)', 'TEXT(16,19)', 'TEXT(315,135)', 'TEXTBOX(252,187)', 'TEXTBOX(252,243)', 'ICON(335,22)', 'TEXT(60,125)', 'TEXT(60,147)', 'TEXTBOX(16,69)', 'BUTTON(264,69)', 'DIVIDER(0,295)', 'BUTTON(12,296)', 'BUTTON(242,296)']\n",
      "similarity  1.0\n",
      "recommended pattern 48666\n",
      "source 48666 ['ICON(1084,16)', 'TEXTBOX(772,10)', 'AVATAR(1124,10)', 'ICON(1044,16)', 'BUTTON(24,10)']\n",
      "similarity  -1\n",
      "recommended pattern 473596\n",
      "source 473596 ['TEXT(24,24)', 'ICON(384,24)', 'TEXTBOX(24,72)', 'TEXTAREA(24,148)', 'BUTTON(336,260)', 'BUTTON(262,260)']\n",
      "similarity  0.8565224882868135\n"
     ]
    }
   ],
   "source": [
    "simi_list = []\n",
    "for pattern in list_patterns: \n",
    "    for i in source:\n",
    "        if(i['id'] == str(pattern)):\n",
    "            print('recommended pattern',pattern)\n",
    "            print('source',i['id'],i['children'])\n",
    "            print('similarity ',similarity(list_input,i['children']))\n",
    "            simi_list.append(similarity(list_input,i['children']))"
   ]
  },
  {
   "cell_type": "code",
   "execution_count": 18,
   "id": "20667d2a",
   "metadata": {},
   "outputs": [
    {
     "data": {
      "text/html": [
       "<div>\n",
       "<style scoped>\n",
       "    .dataframe tbody tr th:only-of-type {\n",
       "        vertical-align: middle;\n",
       "    }\n",
       "\n",
       "    .dataframe tbody tr th {\n",
       "        vertical-align: top;\n",
       "    }\n",
       "\n",
       "    .dataframe thead th {\n",
       "        text-align: right;\n",
       "    }\n",
       "</style>\n",
       "<table border=\"1\" class=\"dataframe\">\n",
       "  <thead>\n",
       "    <tr style=\"text-align: right;\">\n",
       "      <th></th>\n",
       "      <th>Pattern</th>\n",
       "      <th>Similarity</th>\n",
       "    </tr>\n",
       "  </thead>\n",
       "  <tbody>\n",
       "    <tr>\n",
       "      <th>0</th>\n",
       "      <td>2722</td>\n",
       "      <td>0.000000</td>\n",
       "    </tr>\n",
       "    <tr>\n",
       "      <th>1</th>\n",
       "      <td>2723</td>\n",
       "      <td>0.497046</td>\n",
       "    </tr>\n",
       "    <tr>\n",
       "      <th>2</th>\n",
       "      <td>319395</td>\n",
       "      <td>0.000000</td>\n",
       "    </tr>\n",
       "    <tr>\n",
       "      <th>3</th>\n",
       "      <td>2725</td>\n",
       "      <td>0.955081</td>\n",
       "    </tr>\n",
       "    <tr>\n",
       "      <th>4</th>\n",
       "      <td>2726</td>\n",
       "      <td>1.000000</td>\n",
       "    </tr>\n",
       "    <tr>\n",
       "      <th>5</th>\n",
       "      <td>2724</td>\n",
       "      <td>0.818245</td>\n",
       "    </tr>\n",
       "    <tr>\n",
       "      <th>6</th>\n",
       "      <td>319595</td>\n",
       "      <td>1.000000</td>\n",
       "    </tr>\n",
       "    <tr>\n",
       "      <th>7</th>\n",
       "      <td>2098731</td>\n",
       "      <td>0.713471</td>\n",
       "    </tr>\n",
       "    <tr>\n",
       "      <th>8</th>\n",
       "      <td>319468</td>\n",
       "      <td>1.000000</td>\n",
       "    </tr>\n",
       "    <tr>\n",
       "      <th>9</th>\n",
       "      <td>319373</td>\n",
       "      <td>0.808939</td>\n",
       "    </tr>\n",
       "    <tr>\n",
       "      <th>10</th>\n",
       "      <td>319570</td>\n",
       "      <td>0.997199</td>\n",
       "    </tr>\n",
       "    <tr>\n",
       "      <th>11</th>\n",
       "      <td>2098714</td>\n",
       "      <td>0.716032</td>\n",
       "    </tr>\n",
       "    <tr>\n",
       "      <th>12</th>\n",
       "      <td>2288601</td>\n",
       "      <td>1.000000</td>\n",
       "    </tr>\n",
       "    <tr>\n",
       "      <th>13</th>\n",
       "      <td>48666</td>\n",
       "      <td>-1.000000</td>\n",
       "    </tr>\n",
       "    <tr>\n",
       "      <th>14</th>\n",
       "      <td>473596</td>\n",
       "      <td>0.856522</td>\n",
       "    </tr>\n",
       "  </tbody>\n",
       "</table>\n",
       "</div>"
      ],
      "text/plain": [
       "    Pattern  Similarity\n",
       "0      2722    0.000000\n",
       "1      2723    0.497046\n",
       "2    319395    0.000000\n",
       "3      2725    0.955081\n",
       "4      2726    1.000000\n",
       "5      2724    0.818245\n",
       "6    319595    1.000000\n",
       "7   2098731    0.713471\n",
       "8    319468    1.000000\n",
       "9    319373    0.808939\n",
       "10   319570    0.997199\n",
       "11  2098714    0.716032\n",
       "12  2288601    1.000000\n",
       "13    48666   -1.000000\n",
       "14   473596    0.856522"
      ]
     },
     "execution_count": 18,
     "metadata": {},
     "output_type": "execute_result"
    }
   ],
   "source": [
    "df = pd.DataFrame(zip(list_patterns,simi_list),\n",
    "                  columns=['Pattern', 'Similarity'])\n",
    "df"
   ]
  }
 ],
 "metadata": {
  "kernelspec": {
   "display_name": "Python 3 (ipykernel)",
   "language": "python",
   "name": "python3"
  },
  "language_info": {
   "codemirror_mode": {
    "name": "ipython",
    "version": 3
   },
   "file_extension": ".py",
   "mimetype": "text/x-python",
   "name": "python",
   "nbconvert_exporter": "python",
   "pygments_lexer": "ipython3",
   "version": "3.8.8"
  }
 },
 "nbformat": 4,
 "nbformat_minor": 5
}
