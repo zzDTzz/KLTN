{
 "cells": [
  {
   "cell_type": "code",
   "execution_count": 1,
   "id": "13bb56ea",
   "metadata": {},
   "outputs": [],
   "source": [
    "import json\n",
    "import csv\n",
    "import pandas as pd"
   ]
  },
  {
   "cell_type": "code",
   "execution_count": 2,
   "id": "bbdf1eff",
   "metadata": {
    "scrolled": true
   },
   "outputs": [],
   "source": [
    "def type_and_position_of_pattern(file_json):\n",
    "    f = open(file_json)\n",
    "    patterns = json.load(f)\n",
    "    id_pattern_list = []\n",
    "    component_list = []\n",
    "    for i in range(len(patterns)):\n",
    "        children = []\n",
    "        for j in range(len(patterns[i]['data']['children'])):\n",
    "            if(patterns[i]['data']['children'][j]['type'] == 'CONTAINER'):\n",
    "                for z in range(len(patterns[i]['data']['children'][j]['children'])):\n",
    "                    temp = patterns[i]['data']['children'][j]['children'][z]['type']\n",
    "                    children.append(temp)\n",
    "            else:\n",
    "                temp = patterns[i]['data']['children'][j]['type']\n",
    "                children.append(temp)\n",
    "        pattern = {\n",
    "            'name' : patterns[i]['name'],\n",
    "            'children' : children\n",
    "        }\n",
    "        id_pattern_list.append(patterns[i]['id'])\n",
    "        component_list.append(children)\n",
    "    return id_pattern_list,component_list"
   ]
  },
  {
   "cell_type": "code",
   "execution_count": 3,
   "id": "ab68d1dd",
   "metadata": {
    "scrolled": true
   },
   "outputs": [],
   "source": [
    "id_pattern_list,component_list = type_and_position_of_pattern('patterns.json')"
   ]
  },
  {
   "cell_type": "code",
   "execution_count": 4,
   "id": "c8b5efdb",
   "metadata": {},
   "outputs": [],
   "source": [
    "df = pd.DataFrame(zip(id_pattern_list,component_list),\n",
    "                  columns=['Id', 'Components'])"
   ]
  },
  {
   "cell_type": "code",
   "execution_count": 5,
   "id": "555d85ea",
   "metadata": {},
   "outputs": [],
   "source": [
    "df.to_csv('list_components.csv',index=False)"
   ]
  }
 ],
 "metadata": {
  "kernelspec": {
   "display_name": "Python 3 (ipykernel)",
   "language": "python",
   "name": "python3"
  },
  "language_info": {
   "codemirror_mode": {
    "name": "ipython",
    "version": 3
   },
   "file_extension": ".py",
   "mimetype": "text/x-python",
   "name": "python",
   "nbconvert_exporter": "python",
   "pygments_lexer": "ipython3",
   "version": "3.8.8"
  }
 },
 "nbformat": 4,
 "nbformat_minor": 5
}
