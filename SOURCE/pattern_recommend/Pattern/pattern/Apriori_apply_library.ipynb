{
 "cells": [
  {
   "cell_type": "code",
   "execution_count": 1,
   "id": "64bed944",
   "metadata": {},
   "outputs": [],
   "source": [
    "import pandas as pd\n",
    "from ast import literal_eval\n",
    "from collections import Counter\n",
    "import os\n",
    "import csv\n",
    "import json\n",
    "\n",
    "import random\n",
    "\n",
    "import numpy as np\n",
    "from mlxtend.frequent_patterns import apriori, association_rules\n",
    "\n",
    "import warnings\n",
    "warnings.filterwarnings(\"ignore\")"
   ]
  },
  {
   "cell_type": "code",
   "execution_count": 2,
   "id": "682c5aa3",
   "metadata": {},
   "outputs": [],
   "source": [
    "df = pd.read_csv('list_components.csv')\n",
    "df['Components'] = df['Components'].apply(literal_eval)"
   ]
  },
  {
   "cell_type": "code",
   "execution_count": 3,
   "id": "13a3bf63",
   "metadata": {},
   "outputs": [],
   "source": [
    "temp = pd.DataFrame(df['Components'].values.tolist()).transpose()"
   ]
  },
  {
   "cell_type": "code",
   "execution_count": 4,
   "id": "0440f750",
   "metadata": {},
   "outputs": [],
   "source": [
    "temp = temp.replace(np.nan,'',regex=True)"
   ]
  },
  {
   "cell_type": "code",
   "execution_count": 5,
   "id": "37a368fc",
   "metadata": {
    "scrolled": true
   },
   "outputs": [],
   "source": [
    "X = temp.to_numpy()\n",
    "X = np.array(X)"
   ]
  },
  {
   "cell_type": "code",
   "execution_count": 6,
   "id": "43207bcb",
   "metadata": {},
   "outputs": [
    {
     "data": {
      "text/plain": [
       "array([['AVATAR', 'TEXT', 'DIVIDER', ..., 'TEXT', 'IMAGE', 'BUTTON'],\n",
       "       ['BUTTON', 'TEXT', 'SWITCH', ..., 'TEXT', '', 'TABBAR_MENU'],\n",
       "       ['IMAGE', 'TEXT', 'SIDEBAR_MENU', ..., 'TEXT', '', 'TABBAR_MENU'],\n",
       "       ...,\n",
       "       ['', '', '', ..., '', '', ''],\n",
       "       ['', '', '', ..., '', '', ''],\n",
       "       ['', '', '', ..., '', '', '']], dtype=object)"
      ]
     },
     "execution_count": 6,
     "metadata": {},
     "output_type": "execute_result"
    }
   ],
   "source": [
    "X"
   ]
  },
  {
   "cell_type": "code",
   "execution_count": 7,
   "id": "aa870fde",
   "metadata": {},
   "outputs": [
    {
     "data": {
      "text/plain": [
       "array(['', 'AVATAR', 'BUTTON', 'CHECKBOX', 'COLLAPSED_SIDEBAR_MENU',\n",
       "       'COLUMN_BAR_CHART', 'DIVIDER', 'DROPDOWN_BUTTON', 'HEADER_MENU',\n",
       "       'ICON', 'IMAGE', 'RATING', 'RECTANGLE', 'SIDEBAR_MENU', 'SLIDER',\n",
       "       'SWITCH', 'TABBAR_MENU', 'TAG', 'TEXT', 'TEXTAREA', 'TEXTBOX'],\n",
       "      dtype=object)"
      ]
     },
     "execution_count": 7,
     "metadata": {},
     "output_type": "execute_result"
    }
   ],
   "source": [
    "classes = np.unique(X)\n",
    "classes"
   ]
  },
  {
   "cell_type": "code",
   "execution_count": 8,
   "id": "ba41ded5",
   "metadata": {},
   "outputs": [],
   "source": [
    "result = np.zeros((len(X),len(classes)))"
   ]
  },
  {
   "cell_type": "code",
   "execution_count": 9,
   "id": "0a78f795",
   "metadata": {
    "scrolled": false
   },
   "outputs": [
    {
     "data": {
      "text/plain": [
       "array([[0., 0., 0., ..., 0., 0., 0.],\n",
       "       [0., 0., 0., ..., 0., 0., 0.],\n",
       "       [0., 0., 0., ..., 0., 0., 0.],\n",
       "       ...,\n",
       "       [0., 0., 0., ..., 0., 0., 0.],\n",
       "       [0., 0., 0., ..., 0., 0., 0.],\n",
       "       [0., 0., 0., ..., 0., 0., 0.]])"
      ]
     },
     "execution_count": 9,
     "metadata": {},
     "output_type": "execute_result"
    }
   ],
   "source": [
    "result"
   ]
  },
  {
   "cell_type": "code",
   "execution_count": 10,
   "id": "7c9a61f3",
   "metadata": {
    "scrolled": false
   },
   "outputs": [],
   "source": [
    "for i in range(len(X)):\n",
    "    for j in range(len(X[i])): \n",
    "        temp = np.where(classes == X[i][j])    \n",
    "        idx = temp[0][0]\n",
    "        result[i][idx] = 1"
   ]
  },
  {
   "cell_type": "code",
   "execution_count": 11,
   "id": "136bd7d0",
   "metadata": {
    "scrolled": true
   },
   "outputs": [
    {
     "data": {
      "text/html": [
       "<div>\n",
       "<style scoped>\n",
       "    .dataframe tbody tr th:only-of-type {\n",
       "        vertical-align: middle;\n",
       "    }\n",
       "\n",
       "    .dataframe tbody tr th {\n",
       "        vertical-align: top;\n",
       "    }\n",
       "\n",
       "    .dataframe thead th {\n",
       "        text-align: right;\n",
       "    }\n",
       "</style>\n",
       "<table border=\"1\" class=\"dataframe\">\n",
       "  <thead>\n",
       "    <tr style=\"text-align: right;\">\n",
       "      <th></th>\n",
       "      <th>AVATAR</th>\n",
       "      <th>BUTTON</th>\n",
       "      <th>CHECKBOX</th>\n",
       "      <th>COLLAPSED_SIDEBAR_MENU</th>\n",
       "      <th>COLUMN_BAR_CHART</th>\n",
       "      <th>DIVIDER</th>\n",
       "      <th>DROPDOWN_BUTTON</th>\n",
       "      <th>HEADER_MENU</th>\n",
       "      <th>ICON</th>\n",
       "      <th>IMAGE</th>\n",
       "      <th>RATING</th>\n",
       "      <th>RECTANGLE</th>\n",
       "      <th>SIDEBAR_MENU</th>\n",
       "      <th>SLIDER</th>\n",
       "      <th>SWITCH</th>\n",
       "      <th>TABBAR_MENU</th>\n",
       "      <th>TAG</th>\n",
       "      <th>TEXT</th>\n",
       "      <th>TEXTAREA</th>\n",
       "      <th>TEXTBOX</th>\n",
       "    </tr>\n",
       "  </thead>\n",
       "  <tbody>\n",
       "    <tr>\n",
       "      <th>0</th>\n",
       "      <td>1.0</td>\n",
       "      <td>1.0</td>\n",
       "      <td>1.0</td>\n",
       "      <td>1.0</td>\n",
       "      <td>1.0</td>\n",
       "      <td>1.0</td>\n",
       "      <td>0.0</td>\n",
       "      <td>1.0</td>\n",
       "      <td>1.0</td>\n",
       "      <td>1.0</td>\n",
       "      <td>0.0</td>\n",
       "      <td>1.0</td>\n",
       "      <td>1.0</td>\n",
       "      <td>1.0</td>\n",
       "      <td>0.0</td>\n",
       "      <td>0.0</td>\n",
       "      <td>1.0</td>\n",
       "      <td>1.0</td>\n",
       "      <td>0.0</td>\n",
       "      <td>1.0</td>\n",
       "    </tr>\n",
       "    <tr>\n",
       "      <th>1</th>\n",
       "      <td>1.0</td>\n",
       "      <td>1.0</td>\n",
       "      <td>0.0</td>\n",
       "      <td>1.0</td>\n",
       "      <td>0.0</td>\n",
       "      <td>1.0</td>\n",
       "      <td>1.0</td>\n",
       "      <td>0.0</td>\n",
       "      <td>1.0</td>\n",
       "      <td>1.0</td>\n",
       "      <td>0.0</td>\n",
       "      <td>0.0</td>\n",
       "      <td>1.0</td>\n",
       "      <td>0.0</td>\n",
       "      <td>1.0</td>\n",
       "      <td>1.0</td>\n",
       "      <td>0.0</td>\n",
       "      <td>1.0</td>\n",
       "      <td>0.0</td>\n",
       "      <td>1.0</td>\n",
       "    </tr>\n",
       "    <tr>\n",
       "      <th>2</th>\n",
       "      <td>1.0</td>\n",
       "      <td>1.0</td>\n",
       "      <td>0.0</td>\n",
       "      <td>1.0</td>\n",
       "      <td>0.0</td>\n",
       "      <td>0.0</td>\n",
       "      <td>0.0</td>\n",
       "      <td>0.0</td>\n",
       "      <td>1.0</td>\n",
       "      <td>1.0</td>\n",
       "      <td>0.0</td>\n",
       "      <td>1.0</td>\n",
       "      <td>1.0</td>\n",
       "      <td>0.0</td>\n",
       "      <td>0.0</td>\n",
       "      <td>1.0</td>\n",
       "      <td>0.0</td>\n",
       "      <td>1.0</td>\n",
       "      <td>0.0</td>\n",
       "      <td>1.0</td>\n",
       "    </tr>\n",
       "    <tr>\n",
       "      <th>3</th>\n",
       "      <td>1.0</td>\n",
       "      <td>1.0</td>\n",
       "      <td>1.0</td>\n",
       "      <td>0.0</td>\n",
       "      <td>0.0</td>\n",
       "      <td>1.0</td>\n",
       "      <td>0.0</td>\n",
       "      <td>0.0</td>\n",
       "      <td>1.0</td>\n",
       "      <td>1.0</td>\n",
       "      <td>1.0</td>\n",
       "      <td>1.0</td>\n",
       "      <td>1.0</td>\n",
       "      <td>0.0</td>\n",
       "      <td>0.0</td>\n",
       "      <td>0.0</td>\n",
       "      <td>1.0</td>\n",
       "      <td>1.0</td>\n",
       "      <td>1.0</td>\n",
       "      <td>1.0</td>\n",
       "    </tr>\n",
       "    <tr>\n",
       "      <th>4</th>\n",
       "      <td>1.0</td>\n",
       "      <td>1.0</td>\n",
       "      <td>0.0</td>\n",
       "      <td>0.0</td>\n",
       "      <td>0.0</td>\n",
       "      <td>1.0</td>\n",
       "      <td>0.0</td>\n",
       "      <td>0.0</td>\n",
       "      <td>1.0</td>\n",
       "      <td>1.0</td>\n",
       "      <td>0.0</td>\n",
       "      <td>1.0</td>\n",
       "      <td>0.0</td>\n",
       "      <td>0.0</td>\n",
       "      <td>0.0</td>\n",
       "      <td>0.0</td>\n",
       "      <td>1.0</td>\n",
       "      <td>1.0</td>\n",
       "      <td>1.0</td>\n",
       "      <td>1.0</td>\n",
       "    </tr>\n",
       "    <tr>\n",
       "      <th>...</th>\n",
       "      <td>...</td>\n",
       "      <td>...</td>\n",
       "      <td>...</td>\n",
       "      <td>...</td>\n",
       "      <td>...</td>\n",
       "      <td>...</td>\n",
       "      <td>...</td>\n",
       "      <td>...</td>\n",
       "      <td>...</td>\n",
       "      <td>...</td>\n",
       "      <td>...</td>\n",
       "      <td>...</td>\n",
       "      <td>...</td>\n",
       "      <td>...</td>\n",
       "      <td>...</td>\n",
       "      <td>...</td>\n",
       "      <td>...</td>\n",
       "      <td>...</td>\n",
       "      <td>...</td>\n",
       "      <td>...</td>\n",
       "    </tr>\n",
       "    <tr>\n",
       "      <th>64</th>\n",
       "      <td>0.0</td>\n",
       "      <td>0.0</td>\n",
       "      <td>1.0</td>\n",
       "      <td>0.0</td>\n",
       "      <td>0.0</td>\n",
       "      <td>0.0</td>\n",
       "      <td>0.0</td>\n",
       "      <td>0.0</td>\n",
       "      <td>0.0</td>\n",
       "      <td>0.0</td>\n",
       "      <td>0.0</td>\n",
       "      <td>0.0</td>\n",
       "      <td>0.0</td>\n",
       "      <td>0.0</td>\n",
       "      <td>0.0</td>\n",
       "      <td>0.0</td>\n",
       "      <td>0.0</td>\n",
       "      <td>0.0</td>\n",
       "      <td>0.0</td>\n",
       "      <td>0.0</td>\n",
       "    </tr>\n",
       "    <tr>\n",
       "      <th>65</th>\n",
       "      <td>1.0</td>\n",
       "      <td>0.0</td>\n",
       "      <td>0.0</td>\n",
       "      <td>0.0</td>\n",
       "      <td>0.0</td>\n",
       "      <td>0.0</td>\n",
       "      <td>0.0</td>\n",
       "      <td>0.0</td>\n",
       "      <td>0.0</td>\n",
       "      <td>0.0</td>\n",
       "      <td>0.0</td>\n",
       "      <td>0.0</td>\n",
       "      <td>0.0</td>\n",
       "      <td>0.0</td>\n",
       "      <td>0.0</td>\n",
       "      <td>0.0</td>\n",
       "      <td>0.0</td>\n",
       "      <td>0.0</td>\n",
       "      <td>0.0</td>\n",
       "      <td>0.0</td>\n",
       "    </tr>\n",
       "    <tr>\n",
       "      <th>66</th>\n",
       "      <td>0.0</td>\n",
       "      <td>0.0</td>\n",
       "      <td>0.0</td>\n",
       "      <td>0.0</td>\n",
       "      <td>0.0</td>\n",
       "      <td>0.0</td>\n",
       "      <td>0.0</td>\n",
       "      <td>0.0</td>\n",
       "      <td>0.0</td>\n",
       "      <td>0.0</td>\n",
       "      <td>0.0</td>\n",
       "      <td>0.0</td>\n",
       "      <td>0.0</td>\n",
       "      <td>0.0</td>\n",
       "      <td>0.0</td>\n",
       "      <td>0.0</td>\n",
       "      <td>0.0</td>\n",
       "      <td>1.0</td>\n",
       "      <td>0.0</td>\n",
       "      <td>0.0</td>\n",
       "    </tr>\n",
       "    <tr>\n",
       "      <th>67</th>\n",
       "      <td>0.0</td>\n",
       "      <td>1.0</td>\n",
       "      <td>0.0</td>\n",
       "      <td>0.0</td>\n",
       "      <td>0.0</td>\n",
       "      <td>0.0</td>\n",
       "      <td>0.0</td>\n",
       "      <td>0.0</td>\n",
       "      <td>0.0</td>\n",
       "      <td>0.0</td>\n",
       "      <td>0.0</td>\n",
       "      <td>0.0</td>\n",
       "      <td>0.0</td>\n",
       "      <td>0.0</td>\n",
       "      <td>0.0</td>\n",
       "      <td>0.0</td>\n",
       "      <td>0.0</td>\n",
       "      <td>0.0</td>\n",
       "      <td>0.0</td>\n",
       "      <td>0.0</td>\n",
       "    </tr>\n",
       "    <tr>\n",
       "      <th>68</th>\n",
       "      <td>0.0</td>\n",
       "      <td>0.0</td>\n",
       "      <td>0.0</td>\n",
       "      <td>0.0</td>\n",
       "      <td>0.0</td>\n",
       "      <td>1.0</td>\n",
       "      <td>0.0</td>\n",
       "      <td>0.0</td>\n",
       "      <td>0.0</td>\n",
       "      <td>0.0</td>\n",
       "      <td>0.0</td>\n",
       "      <td>0.0</td>\n",
       "      <td>0.0</td>\n",
       "      <td>0.0</td>\n",
       "      <td>0.0</td>\n",
       "      <td>0.0</td>\n",
       "      <td>0.0</td>\n",
       "      <td>0.0</td>\n",
       "      <td>0.0</td>\n",
       "      <td>0.0</td>\n",
       "    </tr>\n",
       "  </tbody>\n",
       "</table>\n",
       "<p>69 rows × 20 columns</p>\n",
       "</div>"
      ],
      "text/plain": [
       "    AVATAR  BUTTON  CHECKBOX  COLLAPSED_SIDEBAR_MENU  COLUMN_BAR_CHART  \\\n",
       "0      1.0     1.0       1.0                     1.0               1.0   \n",
       "1      1.0     1.0       0.0                     1.0               0.0   \n",
       "2      1.0     1.0       0.0                     1.0               0.0   \n",
       "3      1.0     1.0       1.0                     0.0               0.0   \n",
       "4      1.0     1.0       0.0                     0.0               0.0   \n",
       "..     ...     ...       ...                     ...               ...   \n",
       "64     0.0     0.0       1.0                     0.0               0.0   \n",
       "65     1.0     0.0       0.0                     0.0               0.0   \n",
       "66     0.0     0.0       0.0                     0.0               0.0   \n",
       "67     0.0     1.0       0.0                     0.0               0.0   \n",
       "68     0.0     0.0       0.0                     0.0               0.0   \n",
       "\n",
       "    DIVIDER  DROPDOWN_BUTTON  HEADER_MENU  ICON  IMAGE  RATING  RECTANGLE  \\\n",
       "0       1.0              0.0          1.0   1.0    1.0     0.0        1.0   \n",
       "1       1.0              1.0          0.0   1.0    1.0     0.0        0.0   \n",
       "2       0.0              0.0          0.0   1.0    1.0     0.0        1.0   \n",
       "3       1.0              0.0          0.0   1.0    1.0     1.0        1.0   \n",
       "4       1.0              0.0          0.0   1.0    1.0     0.0        1.0   \n",
       "..      ...              ...          ...   ...    ...     ...        ...   \n",
       "64      0.0              0.0          0.0   0.0    0.0     0.0        0.0   \n",
       "65      0.0              0.0          0.0   0.0    0.0     0.0        0.0   \n",
       "66      0.0              0.0          0.0   0.0    0.0     0.0        0.0   \n",
       "67      0.0              0.0          0.0   0.0    0.0     0.0        0.0   \n",
       "68      1.0              0.0          0.0   0.0    0.0     0.0        0.0   \n",
       "\n",
       "    SIDEBAR_MENU  SLIDER  SWITCH  TABBAR_MENU  TAG  TEXT  TEXTAREA  TEXTBOX  \n",
       "0            1.0     1.0     0.0          0.0  1.0   1.0       0.0      1.0  \n",
       "1            1.0     0.0     1.0          1.0  0.0   1.0       0.0      1.0  \n",
       "2            1.0     0.0     0.0          1.0  0.0   1.0       0.0      1.0  \n",
       "3            1.0     0.0     0.0          0.0  1.0   1.0       1.0      1.0  \n",
       "4            0.0     0.0     0.0          0.0  1.0   1.0       1.0      1.0  \n",
       "..           ...     ...     ...          ...  ...   ...       ...      ...  \n",
       "64           0.0     0.0     0.0          0.0  0.0   0.0       0.0      0.0  \n",
       "65           0.0     0.0     0.0          0.0  0.0   0.0       0.0      0.0  \n",
       "66           0.0     0.0     0.0          0.0  0.0   1.0       0.0      0.0  \n",
       "67           0.0     0.0     0.0          0.0  0.0   0.0       0.0      0.0  \n",
       "68           0.0     0.0     0.0          0.0  0.0   0.0       0.0      0.0  \n",
       "\n",
       "[69 rows x 20 columns]"
      ]
     },
     "execution_count": 11,
     "metadata": {},
     "output_type": "execute_result"
    }
   ],
   "source": [
    "result = pd.DataFrame(result,columns = classes)\n",
    "result = result.drop(columns = [''])\n",
    "result"
   ]
  },
  {
   "cell_type": "code",
   "execution_count": 12,
   "id": "8272cad9",
   "metadata": {
    "scrolled": true
   },
   "outputs": [],
   "source": [
    "# Building the model\n",
    "frq_items = apriori(result, min_support = 0.15, use_colnames = True)\n",
    "\n",
    "# Collecting the inferred rules in a dataframe\n",
    "rules = association_rules(frq_items, metric =\"lift\", min_threshold = 1)"
   ]
  },
  {
   "cell_type": "code",
   "execution_count": 13,
   "id": "f944fb6a",
   "metadata": {
    "scrolled": false
   },
   "outputs": [],
   "source": [
    "rules[\"antecedents\"] = rules[\"antecedents\"].apply(lambda x: list(tuple(x)))\n",
    "rules[\"consequents\"] = rules[\"consequents\"].apply(lambda x: list(tuple(x)))\n",
    "rules['merged']= rules[\"antecedents\"] + rules[\"consequents\"]"
   ]
  },
  {
   "cell_type": "code",
   "execution_count": 14,
   "id": "b536b945",
   "metadata": {
    "scrolled": true
   },
   "outputs": [],
   "source": [
    "column_patterns = []\n",
    "idx = []\n",
    "for i in range(len(rules['merged'])):\n",
    "    list_patterns = []\n",
    "    for j in range(len(df['Components'])):\n",
    "        if(set(rules['merged'][i]).issubset(set(df['Components'][j]))):\n",
    "            list_patterns.append(df['Id'][j])\n",
    "    if(len(list_patterns)==0):\n",
    "        idx.append(i)\n",
    "    column_patterns.append(list_patterns)"
   ]
  },
  {
   "cell_type": "code",
   "execution_count": 15,
   "id": "fa5c51f6",
   "metadata": {
    "scrolled": false
   },
   "outputs": [],
   "source": [
    "rules['Patterns'] = pd.Series(column_patterns)\n",
    "#rules[\"antecedents\"] = rules[\"antecedents\"].apply(lambda x: ','.join(x))"
   ]
  },
  {
   "cell_type": "code",
   "execution_count": 16,
   "id": "eafe98b9",
   "metadata": {},
   "outputs": [],
   "source": [
    "#remove empty value in Patterns column\n",
    "rules = rules.drop(index = idx).reset_index().drop(columns = 'index')"
   ]
  },
  {
   "cell_type": "code",
   "execution_count": 17,
   "id": "5219c8ad",
   "metadata": {},
   "outputs": [],
   "source": [
    "#combine output patterns\n",
    "ipts = rules['antecedents'].value_counts().keys()\n",
    "rcmd = []\n",
    "for ipt in ipts:\n",
    "    mask = rules['antecedents'].apply(lambda x: ipt == x)\n",
    "    temp = rules[mask]\n",
    "    s=[]\n",
    "    for v in temp['Patterns'].values:\n",
    "        s += v\n",
    "    rcmd.append(list(set(s)))"
   ]
  },
  {
   "cell_type": "code",
   "execution_count": 18,
   "id": "37881421",
   "metadata": {},
   "outputs": [],
   "source": [
    "d = {'Inputs': ipts, 'Recommend': rcmd}\n",
    "recommendation = pd.DataFrame(d)"
   ]
  },
  {
   "cell_type": "code",
   "execution_count": 19,
   "id": "adb39b9a",
   "metadata": {},
   "outputs": [],
   "source": [
    "rules.to_csv('rules.csv',index = False)\n",
    "recommendation.to_csv('recommendation.csv',index = False)"
   ]
  }
 ],
 "metadata": {
  "kernelspec": {
   "display_name": "Python 3 (ipykernel)",
   "language": "python",
   "name": "python3"
  },
  "language_info": {
   "codemirror_mode": {
    "name": "ipython",
    "version": 3
   },
   "file_extension": ".py",
   "mimetype": "text/x-python",
   "name": "python",
   "nbconvert_exporter": "python",
   "pygments_lexer": "ipython3",
   "version": "3.8.8"
  },
  "vscode": {
   "interpreter": {
    "hash": "540eb59e5b7f637e7c217ea74b18035282dfd36227021ac22f1f17884873b93d"
   }
  }
 },
 "nbformat": 4,
 "nbformat_minor": 5
}
