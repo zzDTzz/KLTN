{
 "cells": [
  {
   "cell_type": "code",
   "execution_count": 1,
   "id": "6c8845e9",
   "metadata": {},
   "outputs": [],
   "source": [
    "import pandas as pd"
   ]
  },
  {
   "cell_type": "code",
   "execution_count": 2,
   "id": "ef7c2155",
   "metadata": {},
   "outputs": [],
   "source": [
    "df = pd.read_csv('clean_template_user_count.csv',sep=',')"
   ]
  },
  {
   "cell_type": "code",
   "execution_count": 3,
   "id": "4772a822",
   "metadata": {},
   "outputs": [],
   "source": [
    "df = df.pivot(index='user_id', columns='template_id', values='count')"
   ]
  },
  {
   "cell_type": "code",
   "execution_count": 4,
   "id": "90f2df4e",
   "metadata": {},
   "outputs": [],
   "source": [
    "df.to_csv('result.csv')"
   ]
  }
 ],
 "metadata": {
  "kernelspec": {
   "display_name": "Python 3 (ipykernel)",
   "language": "python",
   "name": "python3"
  },
  "language_info": {
   "codemirror_mode": {
    "name": "ipython",
    "version": 3
   },
   "file_extension": ".py",
   "mimetype": "text/x-python",
   "name": "python",
   "nbconvert_exporter": "python",
   "pygments_lexer": "ipython3",
   "version": "3.8.8"
  }
 },
 "nbformat": 4,
 "nbformat_minor": 5
}
