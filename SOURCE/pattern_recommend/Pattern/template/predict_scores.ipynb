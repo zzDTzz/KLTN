{
 "cells": [
  {
   "cell_type": "code",
   "execution_count": 1,
   "id": "9cbad1db",
   "metadata": {},
   "outputs": [],
   "source": [
    "import pandas as pd\n",
    "import numpy as np"
   ]
  },
  {
   "cell_type": "code",
   "execution_count": 2,
   "id": "2fa6fb02",
   "metadata": {},
   "outputs": [],
   "source": [
    "np.set_printoptions(suppress=True)"
   ]
  },
  {
   "cell_type": "code",
   "execution_count": 3,
   "id": "4150155f",
   "metadata": {},
   "outputs": [],
   "source": [
    "df = pd.read_csv('scores.csv')\n",
    "df_temp = df.drop(columns = 'user_id')\n",
    "ratings = df_temp.to_numpy()"
   ]
  },
  {
   "cell_type": "code",
   "execution_count": 4,
   "id": "c64f7746",
   "metadata": {},
   "outputs": [],
   "source": [
    "batch_size = 32\n",
    "filled_ratings = np.empty_like(ratings)\n",
    "\n",
    "start = 0\n",
    "end = batch_size"
   ]
  },
  {
   "cell_type": "code",
   "execution_count": 5,
   "id": "b7cb9d4b",
   "metadata": {},
   "outputs": [
    {
     "name": "stderr",
     "output_type": "stream",
     "text": [
      "C:\\Users\\UYENTR~1\\AppData\\Local\\Temp/ipykernel_6008/672187123.py:4: RuntimeWarning: Mean of empty slice\n",
      "  a = np.nanmean(a,axis=2)\n"
     ]
    }
   ],
   "source": [
    "similarities = np.zeros((batch_size,len(ratings)))\n",
    "temp = ratings[start:end,:][:,np.newaxis,:]\n",
    "a = np.abs(ratings - temp)\n",
    "a = np.nanmean(a,axis=2)\n",
    "\n",
    "similarities = 1 / (a + 0.001)\n",
    "similarities = np.nan_to_num(similarities,nan=0)\n",
    "\n",
    "similarities_new = similarities[:,:,np.newaxis]\n",
    "similarity = ~np.isnan(ratings) * similarities_new\n",
    "weights = similarity / similarity.sum(axis=1)[:,np.newaxis,:]\n",
    "\n",
    "filled_ratings = np.nansum(ratings*weights[:batch_size],axis = 1)"
   ]
  },
  {
   "cell_type": "code",
   "execution_count": 6,
   "id": "3b530c7d",
   "metadata": {},
   "outputs": [
    {
     "name": "stderr",
     "output_type": "stream",
     "text": [
      "C:\\Users\\UYENTR~1\\AppData\\Local\\Temp/ipykernel_6008/1466262945.py:9: RuntimeWarning: Mean of empty slice\n",
      "  a = np.nanmean(a,axis=2)\n"
     ]
    }
   ],
   "source": [
    "while (end<len(ratings)):\n",
    "    start = end\n",
    "    end = end + batch_size\n",
    "    if(end >len(ratings)):\n",
    "        end = len(ratings)\n",
    "        \n",
    "    temp = ratings[start:end,:][:,np.newaxis,:]\n",
    "    a = np.abs(ratings - temp)\n",
    "    a = np.nanmean(a,axis=2)\n",
    "    similarities = 1 / (a + 0.001)\n",
    "    similarities = np.nan_to_num(similarities,nan=0)\n",
    "    \n",
    "    similarities_new = similarities[:,:,np.newaxis]\n",
    "    similarity = ~np.isnan(ratings) * similarities_new\n",
    "    weights = similarity / similarity.sum(axis=1)[:,np.newaxis,:]\n",
    "    \n",
    "    temp = np.nansum(ratings*weights[:batch_size],axis = 1)\n",
    "    \n",
    "    filled_ratings= np.append(filled_ratings,temp,axis=0) "
   ]
  },
  {
   "cell_type": "code",
   "execution_count": 7,
   "id": "1baeba50",
   "metadata": {
    "scrolled": true
   },
   "outputs": [],
   "source": [
    "rcmd = pd.DataFrame(filled_ratings, columns = df_temp.columns)"
   ]
  },
  {
   "cell_type": "code",
   "execution_count": 8,
   "id": "e16bfe9f",
   "metadata": {},
   "outputs": [],
   "source": [
    "rcmd['user_id'] = df['user_id']\n",
    "col = rcmd.pop(\"user_id\")\n",
    "rcmd.insert(0, \"user_id\", col)"
   ]
  },
  {
   "cell_type": "code",
   "execution_count": 9,
   "id": "3c9b54e6",
   "metadata": {},
   "outputs": [],
   "source": [
    "rcmd.to_csv('predict_scores.csv',index=False)"
   ]
  }
 ],
 "metadata": {
  "kernelspec": {
   "display_name": "Python 3 (ipykernel)",
   "language": "python",
   "name": "python3"
  },
  "language_info": {
   "codemirror_mode": {
    "name": "ipython",
    "version": 3
   },
   "file_extension": ".py",
   "mimetype": "text/x-python",
   "name": "python",
   "nbconvert_exporter": "python",
   "pygments_lexer": "ipython3",
   "version": "3.8.8"
  }
 },
 "nbformat": 4,
 "nbformat_minor": 5
}
