{
 "cells": [
  {
   "cell_type": "code",
   "execution_count": 1,
   "id": "841e41ad",
   "metadata": {},
   "outputs": [],
   "source": [
    "import pandas as pd"
   ]
  },
  {
   "cell_type": "code",
   "execution_count": 2,
   "id": "b132ff8e",
   "metadata": {},
   "outputs": [],
   "source": [
    "df = pd.read_csv('result.csv')"
   ]
  },
  {
   "cell_type": "code",
   "execution_count": 3,
   "id": "510326ef",
   "metadata": {},
   "outputs": [],
   "source": [
    "df.rename(columns = {'Unnamed: 0':'user_id'},inplace = True)"
   ]
  },
  {
   "cell_type": "code",
   "execution_count": 4,
   "id": "364f5f54",
   "metadata": {},
   "outputs": [],
   "source": [
    "templates_df = df.drop(columns = 'user_id')"
   ]
  },
  {
   "cell_type": "code",
   "execution_count": 5,
   "id": "69a751f5",
   "metadata": {},
   "outputs": [],
   "source": [
    "for i in range(len(templates_df)):\n",
    "    get_max = templates_df.loc[i,:].max()\n",
    "    for j in range(len(templates_df.columns)):\n",
    "        templates_df.iloc[i,j] = (templates_df.iloc[i,j] * 5) / get_max   "
   ]
  },
  {
   "cell_type": "code",
   "execution_count": 6,
   "id": "5e042781",
   "metadata": {},
   "outputs": [],
   "source": [
    "templates_df['user_id'] = df['user_id']"
   ]
  },
  {
   "cell_type": "code",
   "execution_count": 7,
   "id": "7f863e61",
   "metadata": {},
   "outputs": [],
   "source": [
    "col = templates_df.pop(\"user_id\")\n",
    "templates_df.insert(0, \"user_id\", col)"
   ]
  },
  {
   "cell_type": "code",
   "execution_count": 8,
   "id": "7bfad4d7",
   "metadata": {
    "scrolled": false
   },
   "outputs": [],
   "source": [
    "templates_df.to_csv('scores.csv',index=False)"
   ]
  }
 ],
 "metadata": {
  "kernelspec": {
   "display_name": "Python 3 (ipykernel)",
   "language": "python",
   "name": "python3"
  },
  "language_info": {
   "codemirror_mode": {
    "name": "ipython",
    "version": 3
   },
   "file_extension": ".py",
   "mimetype": "text/x-python",
   "name": "python",
   "nbconvert_exporter": "python",
   "pygments_lexer": "ipython3",
   "version": "3.8.8"
  }
 },
 "nbformat": 4,
 "nbformat_minor": 5
}
